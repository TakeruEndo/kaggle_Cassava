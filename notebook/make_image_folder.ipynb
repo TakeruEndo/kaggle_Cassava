{
 "cells": [
  {
   "cell_type": "code",
   "execution_count": 5,
   "metadata": {},
   "outputs": [],
   "source": [
    "import pandas as pd\n",
    "from PIL import Image, ImageFilter\n",
    "import shutil\n",
    "import os"
   ]
  },
  {
   "cell_type": "code",
   "execution_count": 10,
   "metadata": {},
   "outputs": [],
   "source": [
    "for i in range(5):\n",
    "    for j in range(5):\n",
    "        if i == j:\n",
    "            continue\n",
    "        df = pd.read_csv(f't{i}p{j}.csv')\n",
    "        output_path = f't{i}p{j}'\n",
    "        os.makedirs(output_path)\n",
    "        for k in df['id'].values:\n",
    "            shutil.copyfile(f'../input/train_images/{k}', os.path.join(output_path, f'{k}'))\n",
    "            "
   ]
  },
  {
   "cell_type": "code",
   "execution_count": 13,
   "metadata": {},
   "outputs": [],
   "source": [
    "train = pd.read_csv('../input/train.csv')"
   ]
  },
  {
   "cell_type": "code",
   "execution_count": 23,
   "metadata": {},
   "outputs": [],
   "source": [
    "for i in range(5):\n",
    "    output_path = f'true_{i}'\n",
    "    os.makedirs(output_path)\n",
    "    count = 0\n",
    "    for k in train[train['label'] == 2]['image_id'].values:\n",
    "        if count  > 100:\n",
    "            break\n",
    "        shutil.copyfile(f'../input/train_images/{k}', os.path.join(output_path, f'{k}'))\n",
    "        count += 1\n",
    "            "
   ]
  },
  {
   "cell_type": "code",
   "execution_count": null,
   "metadata": {},
   "outputs": [],
   "source": []
  }
 ],
 "metadata": {
  "kernelspec": {
   "display_name": "Python 3",
   "language": "python",
   "name": "python3"
  },
  "language_info": {
   "codemirror_mode": {
    "name": "ipython",
    "version": 3
   },
   "file_extension": ".py",
   "mimetype": "text/x-python",
   "name": "python",
   "nbconvert_exporter": "python",
   "pygments_lexer": "ipython3",
   "version": "3.8.5"
  }
 },
 "nbformat": 4,
 "nbformat_minor": 4
}
